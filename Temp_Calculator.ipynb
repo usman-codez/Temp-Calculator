{
  "nbformat": 4,
  "nbformat_minor": 0,
  "metadata": {
    "colab": {
      "provenance": [],
      "authorship_tag": "ABX9TyMdH616xZsYCNRgudbJ9CAN",
      "include_colab_link": true
    },
    "kernelspec": {
      "name": "python3",
      "display_name": "Python 3"
    },
    "language_info": {
      "name": "python"
    }
  },
  "cells": [
    {
      "cell_type": "markdown",
      "metadata": {
        "id": "view-in-github",
        "colab_type": "text"
      },
      "source": [
        "<a href=\"https://colab.research.google.com/github/usman-codez/Temp-Calculator/blob/main/Temp_Calculator.ipynb\" target=\"_parent\"><img src=\"https://colab.research.google.com/assets/colab-badge.svg\" alt=\"Open In Colab\"/></a>"
      ]
    },
    {
      "cell_type": "code",
      "execution_count": null,
      "metadata": {
        "colab": {
          "base_uri": "https://localhost:8080/"
        },
        "id": "NFIT2awS7FFi",
        "outputId": "e5d7f35e-2ad4-4ba8-9e5f-cd93f3bf202a"
      },
      "outputs": [
        {
          "output_type": "stream",
          "name": "stdout",
          "text": [
            "Enter temperature: 25\n",
            "'F' for forenheit\n",
            "'C' for celsius\n",
            "'K' for kelvin\n",
            "----------------------------------\n",
            "In which degree you are entring temp: C\n",
            "'F' for forenheit\n",
            "'C' for celsius\n",
            "'K' for kelvin\n",
            "In which degree you want to change: F\n",
            "77.0\n"
          ]
        }
      ],
      "source": [
        "temp=float(input('Enter temperature: '))\n",
        "\n",
        "print(\"'F' for forenheit\")\n",
        "print(\"'C' for celsius\")\n",
        "print(\"'K' for kelvin\")\n",
        "print('----------------------------------')\n",
        "choose=input('In which degree you are entring temp: ')\n",
        "print(\"'F' for forenheit\")\n",
        "print(\"'C' for celsius\")\n",
        "print(\"'K' for kelvin\")\n",
        "\n",
        "choice=input('In which degree you want to change: ')\n",
        "if choose=='F':\n",
        "  if choice=='C':\n",
        "    c=(temp-32)*5/9\n",
        "    print(c)\n",
        "  elif choice=='K':\n",
        "    k=(temp-32)*5/9+273.15\n",
        "    print(k)\n",
        "  else:\n",
        "    print('Invalid choice')\n",
        "\n",
        "elif choose=='C':\n",
        "  if choice=='F':\n",
        "    f=(temp*9/5)+32\n",
        "    print(f)\n",
        "  elif choice=='K':\n",
        "    k=temp+273.15\n",
        "    print(k)\n",
        "  else:\n",
        "    print('Invalid choice')\n",
        "elif choose=='K':\n",
        "  if choice=='F':\n",
        "    f=(temp-273.15)*9/5+32\n",
        "    print(f)\n",
        "  elif choice=='C':\n",
        "    c=temp-273.15\n",
        "    print(c)\n",
        "else:\n",
        "  print('Invalid choice')\n"
      ]
    }
  ]
}